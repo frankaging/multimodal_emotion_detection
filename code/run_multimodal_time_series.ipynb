{
 "cells": [
  {
   "cell_type": "code",
   "execution_count": 1,
   "metadata": {},
   "outputs": [],
   "source": [
    "import random\n",
    "import sys\n",
    "from dataclasses import dataclass, field\n",
    "from typing import Optional\n",
    "import torch\n",
    "import argparse\n",
    "import numpy as np\n",
    "import pandas as pd\n",
    "\n",
    "from processor import *"
   ]
  },
  {
   "cell_type": "code",
   "execution_count": 134,
   "metadata": {},
   "outputs": [
    {
     "name": "stdout",
     "output_type": "stream",
     "text": [
      "processing example = 0, video = ID156_vid2 ...\n"
     ]
    }
   ],
   "source": [
    "examples = SENDv1_Processor().get_train_examples(\"../../SENDv1-data/\", sample_limit=10)"
   ]
  },
  {
   "cell_type": "code",
   "execution_count": 132,
   "metadata": {},
   "outputs": [
    {
     "data": {
      "text/plain": [
       "tensor([[-1.1951, -1.1074, -0.5301,  ..., -2.3697, -1.4415, -1.7869],\n",
       "        [-1.0872, -1.1141, -0.5604,  ..., -2.2777, -1.7785, -1.4546],\n",
       "        [-0.6814, -0.8723, -0.2245,  ..., -1.0153, -1.0073, -0.1671],\n",
       "        ...,\n",
       "        [-0.6619, -0.6239, -0.5026,  ..., -0.4913, -1.3915, -0.4179],\n",
       "        [-0.6859, -0.8065, -0.2771,  ..., -0.6026, -1.3562, -0.1435],\n",
       "        [-0.6859, -0.8065, -0.2771,  ..., -0.6026, -1.3562, -0.1435]],\n",
       "       dtype=torch.float64)"
      ]
     },
     "execution_count": 132,
     "metadata": {},
     "output_type": "execute_result"
    }
   ],
   "source": [
    "examples[0].visual_modality"
   ]
  },
  {
   "cell_type": "code",
   "execution_count": 2,
   "metadata": {},
   "outputs": [],
   "source": [
    "import cv2\n",
    "import numpy as np\n",
    "import os"
   ]
  },
  {
   "cell_type": "code",
   "execution_count": 3,
   "metadata": {},
   "outputs": [
    {
     "name": "stdout",
     "output_type": "stream",
     "text": [
      "[[[32 28 31]\n",
      "  [32 28 31]\n",
      "  [34 30 33]\n",
      "  ...\n",
      "  [27 27 25]\n",
      "  [27 27 25]\n",
      "  [27 27 25]]\n",
      "\n",
      " [[32 28 31]\n",
      "  [32 28 31]\n",
      "  [33 29 32]\n",
      "  ...\n",
      "  [27 27 25]\n",
      "  [27 27 25]\n",
      "  [27 27 25]]\n",
      "\n",
      " [[31 27 30]\n",
      "  [31 27 30]\n",
      "  [32 28 31]\n",
      "  ...\n",
      "  [27 27 25]\n",
      "  [27 27 25]\n",
      "  [27 27 25]]\n",
      "\n",
      " ...\n",
      "\n",
      " [[27 24 25]\n",
      "  [27 24 25]\n",
      "  [27 24 25]\n",
      "  ...\n",
      "  [18 15 16]\n",
      "  [13 10 11]\n",
      "  [10  7  8]]\n",
      "\n",
      " [[26 23 24]\n",
      "  [26 23 24]\n",
      "  [26 23 24]\n",
      "  ...\n",
      "  [18 15 16]\n",
      "  [13 10 11]\n",
      "  [10  7  8]]\n",
      "\n",
      " [[26 23 24]\n",
      "  [26 23 24]\n",
      "  [26 23 24]\n",
      "  ...\n",
      "  [18 15 16]\n",
      "  [13 10 11]\n",
      "  [10  7  8]]]\n"
     ]
    }
   ],
   "source": [
    "# Playing video from file:\n",
    "cap = cv2.VideoCapture('../../Sherine-Image/videos/Train/ID111_vid4_crop_downsized.mp4')\n",
    "\n",
    "try:\n",
    "    if not os.path.exists('data'):\n",
    "        os.makedirs('data')\n",
    "except OSError:\n",
    "    print ('Error: Creating directory of data')\n",
    "\n",
    "currentFrame = 0\n",
    "while(True):\n",
    "    # Capture frame-by-frame\n",
    "    ret, frame = cap.read()\n",
    "    print(frame)\n",
    "    break\n",
    "    \n",
    "#     # Saves image of the current frame in jpg file\n",
    "#     name = './data/frame' + str(currentFrame) + '.jpg'\n",
    "#     print ('Creating...' + name)\n",
    "#     cv2.imwrite(name, frame)\n",
    "\n",
    "#     # To stop duplicate images\n",
    "#     currentFrame += 1\n",
    "\n",
    "# # When everything done, release the capture\n",
    "# cap.release()\n",
    "# cv2.destroyAllWindows()"
   ]
  },
  {
   "cell_type": "code",
   "execution_count": 3,
   "metadata": {},
   "outputs": [],
   "source": [
    "cap = cv2.VideoCapture('../../Sherine-Image/videos/Train/ID111_vid4_crop_downsized.mp4')\n"
   ]
  },
  {
   "cell_type": "code",
   "execution_count": 9,
   "metadata": {},
   "outputs": [],
   "source": [
    "fps = cap.get(cv2.CAP_PROP_FPS)\n"
   ]
  },
  {
   "cell_type": "code",
   "execution_count": 10,
   "metadata": {},
   "outputs": [
    {
     "data": {
      "text/plain": [
       "29.97002997002997"
      ]
     },
     "execution_count": 10,
     "metadata": {},
     "output_type": "execute_result"
    }
   ],
   "source": [
    "fps"
   ]
  },
  {
   "cell_type": "code",
   "execution_count": 11,
   "metadata": {},
   "outputs": [
    {
     "data": {
      "text/plain": [
       "19.98001998001998"
      ]
     },
     "execution_count": 11,
     "metadata": {},
     "output_type": "execute_result"
    }
   ],
   "source": [
    "fps/1.5"
   ]
  },
  {
   "cell_type": "code",
   "execution_count": 13,
   "metadata": {},
   "outputs": [
    {
     "data": {
      "text/plain": [
       "0.03336666666666667"
      ]
     },
     "execution_count": 13,
     "metadata": {},
     "output_type": "execute_result"
    }
   ],
   "source": [
    "1/fps"
   ]
  },
  {
   "cell_type": "code",
   "execution_count": 17,
   "metadata": {},
   "outputs": [
    {
     "data": {
      "text/plain": [
       "0.40040000000000003"
      ]
     },
     "execution_count": 17,
     "metadata": {},
     "output_type": "execute_result"
    }
   ],
   "source": [
    "0.03336666666666667*12"
   ]
  },
  {
   "cell_type": "code",
   "execution_count": 3,
   "metadata": {},
   "outputs": [],
   "source": [
    "from os import listdir\n",
    "from os.path import isfile, join\n",
    "mypath = \"../../Sherine-Image/videos/Train/\"\n",
    "video_files_train = [(f.split(\"_\")[0][2:]+\"_\"+f.split(\"_\")[1][3:], f) for f in listdir(mypath) if isfile(join(mypath, f))]\n",
    "mypath = \"../../Sherine-Image/videos/Valid/\"\n",
    "video_files_dev = [(f.split(\"_\")[0][2:]+\"_\"+f.split(\"_\")[1][3:], f) for f in listdir(mypath) if isfile(join(mypath, f))]\n",
    "mypath = \"../../Sherine-Image/videos/Test/\"\n",
    "video_files_test = [(f.split(\"_\")[0][2:]+\"_\"+f.split(\"_\")[1][3:], f) for f in listdir(mypath) if isfile(join(mypath, f))]"
   ]
  },
  {
   "cell_type": "code",
   "execution_count": 4,
   "metadata": {},
   "outputs": [],
   "source": [
    "train_map = [(f[0], \"../../Sherine-Image/images/Train_resized/\" +  f[1].split(\"_\")[0]+\"_\"+f[1].split(\"_\")[1]) for f in video_files_train]\n",
    "dev_map = [(f[0], \"../../Sherine-Image/images/Valid_resized/\" +  f[1].split(\"_\")[0]+\"_\"+f[1].split(\"_\")[1]) for f in video_files_dev]\n",
    "test_map = [(f[0], \"../../Sherine-Image/images/Test_resized/\" +  f[1].split(\"_\")[0]+\"_\"+f[1].split(\"_\")[1]) for f in video_files_test]"
   ]
  },
  {
   "cell_type": "code",
   "execution_count": 5,
   "metadata": {},
   "outputs": [],
   "source": [
    "file_map = train_map + dev_map + test_map\n",
    "file_map = dict(file_map)"
   ]
  },
  {
   "cell_type": "code",
   "execution_count": 6,
   "metadata": {},
   "outputs": [],
   "source": [
    "mypath = \"../../SENDv1-data/ratings/Train/observer_EWE/\"\n",
    "all_files_train = [f.split(\"_\")[-2]+\"_\"+f.split(\"_\")[-1].split(\".\")[0] for f in listdir(mypath) if isfile(join(mypath, f))]\n",
    "mypath = \"../../SENDv1-data/ratings/Valid/observer_EWE/\"\n",
    "all_files_dev = [f.split(\"_\")[-2]+\"_\"+f.split(\"_\")[-1].split(\".\")[0] for f in listdir(mypath) if isfile(join(mypath, f))]\n",
    "mypath = \"../../SENDv1-data/ratings/Test/observer_EWE/\"\n",
    "all_files_test = [f.split(\"_\")[-2]+\"_\"+f.split(\"_\")[-1].split(\".\")[0] for f in listdir(mypath) if isfile(join(mypath, f))]"
   ]
  },
  {
   "cell_type": "code",
   "execution_count": 7,
   "metadata": {},
   "outputs": [],
   "source": [
    "partition = {\n",
    "    \"Train\": all_files_train,\n",
    "    \"Valid\": all_files_dev,\n",
    "    \"Test\": all_files_test\n",
    "}"
   ]
  },
  {
   "cell_type": "code",
   "execution_count": 8,
   "metadata": {},
   "outputs": [
    {
     "name": "stdout",
     "output_type": "stream",
     "text": [
      "copying from ../../Sherine-Image/images/Train_resized/ID120_vid4 to ../../SENDv1-data/features/Train/image-raw/ID120_vid4\n",
      "copying from ../../Sherine-Image/images/Train_resized/ID178_vid1 to ../../SENDv1-data/features/Train/image-raw/ID178_vid1\n",
      "copying from ../../Sherine-Image/images/Train_resized/ID147_vid3 to ../../SENDv1-data/features/Train/image-raw/ID147_vid3\n",
      "copying from ../../Sherine-Image/images/Train_resized/ID163_vid2 to ../../SENDv1-data/features/Train/image-raw/ID163_vid2\n",
      "copying from ../../Sherine-Image/images/Test_resized/ID147_vid2 to ../../SENDv1-data/features/Train/image-raw/ID147_vid2\n",
      "copying from ../../Sherine-Image/images/Valid_resized/ID178_vid2 to ../../SENDv1-data/features/Train/image-raw/ID178_vid2\n",
      "copying from ../../Sherine-Image/images/Test_resized/ID141_vid6 to ../../SENDv1-data/features/Train/image-raw/ID141_vid6\n",
      "copying from ../../Sherine-Image/images/Train_resized/ID163_vid1 to ../../SENDv1-data/features/Train/image-raw/ID163_vid1\n",
      "copying from ../../Sherine-Image/images/Train_resized/ID147_vid1 to ../../SENDv1-data/features/Train/image-raw/ID147_vid1\n",
      "copying from ../../Sherine-Image/images/Train_resized/ID119_vid2 to ../../SENDv1-data/features/Train/image-raw/ID119_vid2\n",
      "copying from ../../Sherine-Image/images/Valid_resized/ID143_vid5 to ../../SENDv1-data/features/Train/image-raw/ID143_vid5\n",
      "copying from ../../Sherine-Image/images/Train_resized/ID120_vid2 to ../../SENDv1-data/features/Train/image-raw/ID120_vid2\n",
      "copying from ../../Sherine-Image/images/Train_resized/ID119_vid6 to ../../SENDv1-data/features/Train/image-raw/ID119_vid6\n",
      "copying from ../../Sherine-Image/images/Train_resized/ID147_vid5 to ../../SENDv1-data/features/Train/image-raw/ID147_vid5\n",
      "copying from ../../Sherine-Image/images/Train_resized/ID163_vid5 to ../../SENDv1-data/features/Train/image-raw/ID163_vid5\n",
      "copying from ../../Sherine-Image/images/Valid_resized/ID147_vid4 to ../../SENDv1-data/features/Train/image-raw/ID147_vid4\n",
      "copying from ../../Sherine-Image/images/Valid_resized/ID167_vid1 to ../../SENDv1-data/features/Train/image-raw/ID167_vid1\n",
      "copying from ../../Sherine-Image/images/Train_resized/ID178_vid6 to ../../SENDv1-data/features/Train/image-raw/ID178_vid6\n",
      "copying from ../../Sherine-Image/images/Train_resized/ID120_vid3 to ../../SENDv1-data/features/Train/image-raw/ID120_vid3\n",
      "copying from ../../Sherine-Image/images/Train_resized/ID120_vid1 to ../../SENDv1-data/features/Train/image-raw/ID120_vid1\n",
      "copying from ../../Sherine-Image/images/Test_resized/ID178_vid4 to ../../SENDv1-data/features/Train/image-raw/ID178_vid4\n",
      "copying from ../../Sherine-Image/images/Train_resized/ID119_vid4 to ../../SENDv1-data/features/Train/image-raw/ID119_vid4\n",
      "copying from ../../Sherine-Image/images/Test_resized/ID141_vid1 to ../../SENDv1-data/features/Train/image-raw/ID141_vid1\n",
      "copying from ../../Sherine-Image/images/Valid_resized/ID167_vid2 to ../../SENDv1-data/features/Train/image-raw/ID167_vid2\n",
      "copying from ../../Sherine-Image/images/Train_resized/ID178_vid5 to ../../SENDv1-data/features/Train/image-raw/ID178_vid5\n",
      "copying from ../../Sherine-Image/images/Valid_resized/ID143_vid3 to ../../SENDv1-data/features/Train/image-raw/ID143_vid3\n",
      "copying from ../../Sherine-Image/images/Train_resized/ID180_vid6 to ../../SENDv1-data/features/Train/image-raw/ID180_vid6\n",
      "copying from ../../Sherine-Image/images/Train_resized/ID118_vid3 to ../../SENDv1-data/features/Train/image-raw/ID118_vid3\n",
      "copying from ../../Sherine-Image/images/Train_resized/ID179_vid3 to ../../SENDv1-data/features/Train/image-raw/ID179_vid3\n",
      "copying from ../../Sherine-Image/images/Train_resized/ID121_vid6 to ../../SENDv1-data/features/Train/image-raw/ID121_vid6\n",
      "copying from ../../Sherine-Image/images/Test_resized/ID144_vid3 to ../../SENDv1-data/features/Train/image-raw/ID144_vid3\n",
      "copying from ../../Sherine-Image/images/Test_resized/ID144_vid1 to ../../SENDv1-data/features/Train/image-raw/ID144_vid1\n",
      "copying from ../../Sherine-Image/images/Valid_resized/ID162_vid2 to ../../SENDv1-data/features/Train/image-raw/ID162_vid2\n",
      "copying from ../../Sherine-Image/images/Train_resized/ID180_vid5 to ../../SENDv1-data/features/Train/image-raw/ID180_vid5\n",
      "copying from ../../Sherine-Image/images/Valid_resized/ID164_vid4 to ../../SENDv1-data/features/Train/image-raw/ID164_vid4\n",
      "copying from ../../Sherine-Image/images/Train_resized/ID179_vid1 to ../../SENDv1-data/features/Train/image-raw/ID179_vid1\n",
      "copying from ../../Sherine-Image/images/Train_resized/ID121_vid5 to ../../SENDv1-data/features/Train/image-raw/ID121_vid5\n",
      "copying from ../../Sherine-Image/images/Train_resized/ID164_vid5 to ../../SENDv1-data/features/Train/image-raw/ID164_vid5\n",
      "copying from ../../Sherine-Image/images/Train_resized/ID118_vid1 to ../../SENDv1-data/features/Train/image-raw/ID118_vid1\n",
      "copying from ../../Sherine-Image/images/Test_resized/ID180_vid4 to ../../SENDv1-data/features/Train/image-raw/ID180_vid4\n",
      "copying from ../../Sherine-Image/images/Train_resized/ID162_vid3 to ../../SENDv1-data/features/Train/image-raw/ID162_vid3\n",
      "copying from ../../Sherine-Image/images/Train_resized/ID118_vid5 to ../../SENDv1-data/features/Train/image-raw/ID118_vid5\n",
      "copying from ../../Sherine-Image/images/Test_resized/ID121_vid1 to ../../SENDv1-data/features/Train/image-raw/ID121_vid1\n",
      "copying from ../../Sherine-Image/images/Test_resized/ID142_vid2 to ../../SENDv1-data/features/Train/image-raw/ID142_vid2\n",
      "copying from ../../Sherine-Image/images/Train_resized/ID179_vid4 to ../../SENDv1-data/features/Train/image-raw/ID179_vid4\n",
      "copying from ../../Sherine-Image/images/Test_resized/ID179_vid5 to ../../SENDv1-data/features/Train/image-raw/ID179_vid5\n",
      "copying from ../../Sherine-Image/images/Train_resized/ID142_vid3 to ../../SENDv1-data/features/Train/image-raw/ID142_vid3\n",
      "copying from ../../Sherine-Image/images/Train_resized/ID118_vid4 to ../../SENDv1-data/features/Train/image-raw/ID118_vid4\n",
      "copying from ../../Sherine-Image/images/Test_resized/ID180_vid1 to ../../SENDv1-data/features/Train/image-raw/ID180_vid1\n",
      "copying from ../../Sherine-Image/images/Valid_resized/ID162_vid6 to ../../SENDv1-data/features/Train/image-raw/ID162_vid6\n",
      "copying from ../../Sherine-Image/images/Train_resized/ID162_vid4 to ../../SENDv1-data/features/Train/image-raw/ID162_vid4\n",
      "copying from ../../Sherine-Image/images/Train_resized/ID180_vid3 to ../../SENDv1-data/features/Train/image-raw/ID180_vid3\n",
      "copying from ../../Sherine-Image/images/Train_resized/ID118_vid6 to ../../SENDv1-data/features/Train/image-raw/ID118_vid6\n",
      "copying from ../../Sherine-Image/images/Train_resized/ID142_vid1 to ../../SENDv1-data/features/Train/image-raw/ID142_vid1\n",
      "copying from ../../Sherine-Image/images/Train_resized/ID179_vid6 to ../../SENDv1-data/features/Train/image-raw/ID179_vid6\n",
      "copying from ../../Sherine-Image/images/Valid_resized/ID121_vid3 to ../../SENDv1-data/features/Train/image-raw/ID121_vid3\n",
      "copying from ../../Sherine-Image/images/Train_resized/ID164_vid3 to ../../SENDv1-data/features/Train/image-raw/ID164_vid3\n",
      "copying from ../../Sherine-Image/images/Train_resized/ID180_vid2 to ../../SENDv1-data/features/Train/image-raw/ID180_vid2\n",
      "copying from ../../Sherine-Image/images/Train_resized/ID162_vid5 to ../../SENDv1-data/features/Train/image-raw/ID162_vid5\n",
      "copying from ../../Sherine-Image/images/Train_resized/ID171_vid2 to ../../SENDv1-data/features/Train/image-raw/ID171_vid2\n",
      "copying from ../../Sherine-Image/images/Valid_resized/ID129_vid7 to ../../SENDv1-data/features/Train/image-raw/ID129_vid7\n",
      "copying from ../../Sherine-Image/images/Train_resized/ID153_vid5 to ../../SENDv1-data/features/Train/image-raw/ID153_vid5\n",
      "copying from ../../Sherine-Image/images/Train_resized/ID130_vid6 to ../../SENDv1-data/features/Train/image-raw/ID130_vid6\n",
      "copying from ../../Sherine-Image/images/Test_resized/ID114_vid6 to ../../SENDv1-data/features/Train/image-raw/ID114_vid6\n",
      "copying from ../../Sherine-Image/images/Test_resized/ID151_vid6 to ../../SENDv1-data/features/Train/image-raw/ID151_vid6\n",
      "copying from ../../Sherine-Image/images/Train_resized/ID153_vid4 to ../../SENDv1-data/features/Train/image-raw/ID153_vid4\n",
      "copying from ../../Sherine-Image/images/Valid_resized/ID129_vid6 to ../../SENDv1-data/features/Train/image-raw/ID129_vid6\n",
      "copying from ../../Sherine-Image/images/Train_resized/ID171_vid3 to ../../SENDv1-data/features/Train/image-raw/ID171_vid3\n"
     ]
    },
    {
     "name": "stdout",
     "output_type": "stream",
     "text": [
      "copying from ../../Sherine-Image/images/Test_resized/ID171_vid1 to ../../SENDv1-data/features/Train/image-raw/ID171_vid1\n",
      "copying from ../../Sherine-Image/images/Valid_resized/ID129_vid4 to ../../SENDv1-data/features/Train/image-raw/ID129_vid4\n",
      "copying from ../../Sherine-Image/images/Train_resized/ID153_vid6 to ../../SENDv1-data/features/Train/image-raw/ID153_vid6\n",
      "copying from ../../Sherine-Image/images/Train_resized/ID114_vid4 to ../../SENDv1-data/features/Train/image-raw/ID114_vid4\n",
      "copying from ../../Sherine-Image/images/Train_resized/ID114_vid5 to ../../SENDv1-data/features/Train/image-raw/ID114_vid5\n",
      "copying from ../../Sherine-Image/images/Train_resized/ID130_vid4 to ../../SENDv1-data/features/Train/image-raw/ID130_vid4\n",
      "copying from ../../Sherine-Image/images/Valid_resized/ID129_vid5 to ../../SENDv1-data/features/Train/image-raw/ID129_vid5\n",
      "copying from ../../Sherine-Image/images/Valid_resized/ID171_vid4 to ../../SENDv1-data/features/Train/image-raw/ID171_vid4\n",
      "copying from ../../Sherine-Image/images/Valid_resized/ID129_vid1 to ../../SENDv1-data/features/Train/image-raw/ID129_vid1\n",
      "copying from ../../Sherine-Image/images/Train_resized/ID153_vid3 to ../../SENDv1-data/features/Train/image-raw/ID153_vid3\n",
      "copying from ../../Sherine-Image/images/Valid_resized/ID114_vid1 to ../../SENDv1-data/features/Train/image-raw/ID114_vid1\n",
      "copying from ../../Sherine-Image/images/Train_resized/ID153_vid2 to ../../SENDv1-data/features/Train/image-raw/ID153_vid2\n",
      "copying from ../../Sherine-Image/images/Train_resized/ID130_vid1 to ../../SENDv1-data/features/Train/image-raw/ID130_vid1\n",
      "copying from ../../Sherine-Image/images/Test_resized/ID171_vid5 to ../../SENDv1-data/features/Train/image-raw/ID171_vid5\n",
      "copying from ../../Sherine-Image/images/Train_resized/ID129_vid2 to ../../SENDv1-data/features/Train/image-raw/ID129_vid2\n",
      "copying from ../../Sherine-Image/images/Test_resized/ID151_vid2 to ../../SENDv1-data/features/Train/image-raw/ID151_vid2\n",
      "copying from ../../Sherine-Image/images/Train_resized/ID130_vid2 to ../../SENDv1-data/features/Train/image-raw/ID130_vid2\n",
      "copying from ../../Sherine-Image/images/Test_resized/ID153_vid1 to ../../SENDv1-data/features/Train/image-raw/ID153_vid1\n",
      "copying from ../../Sherine-Image/images/Train_resized/ID129_vid3 to ../../SENDv1-data/features/Train/image-raw/ID129_vid3\n",
      "copying from ../../Sherine-Image/images/Train_resized/ID171_vid6 to ../../SENDv1-data/features/Train/image-raw/ID171_vid6\n",
      "copying from ../../Sherine-Image/images/Test_resized/ID174_vid5 to ../../SENDv1-data/features/Train/image-raw/ID174_vid5\n",
      "copying from ../../Sherine-Image/images/Test_resized/ID172_vid3 to ../../SENDv1-data/features/Train/image-raw/ID172_vid3\n",
      "copying from ../../Sherine-Image/images/Train_resized/ID113_vid2 to ../../SENDv1-data/features/Train/image-raw/ID113_vid2\n",
      "copying from ../../Sherine-Image/images/Test_resized/ID156_vid2 to ../../SENDv1-data/features/Train/image-raw/ID156_vid2\n",
      "copying from ../../Sherine-Image/images/Train_resized/ID113_vid3 to ../../SENDv1-data/features/Train/image-raw/ID113_vid3\n",
      "copying from ../../Sherine-Image/images/Train_resized/ID156_vid3 to ../../SENDv1-data/features/Train/image-raw/ID156_vid3\n",
      "copying from ../../Sherine-Image/images/Train_resized/ID172_vid2 to ../../SENDv1-data/features/Train/image-raw/ID172_vid2\n",
      "copying from ../../Sherine-Image/images/Test_resized/ID111_vid1 to ../../SENDv1-data/features/Train/image-raw/ID111_vid1\n",
      "copying from ../../Sherine-Image/images/Test_resized/ID174_vid6 to ../../SENDv1-data/features/Train/image-raw/ID174_vid6\n",
      "copying from ../../Sherine-Image/images/Valid_resized/ID111_vid3 to ../../SENDv1-data/features/Train/image-raw/ID111_vid3\n",
      "copying from ../../Sherine-Image/images/Valid_resized/ID156_vid1 to ../../SENDv1-data/features/Train/image-raw/ID156_vid1\n",
      "copying from ../../Sherine-Image/images/Test_resized/ID135_vid3 to ../../SENDv1-data/features/Train/image-raw/ID135_vid3\n",
      "copying from ../../Sherine-Image/images/Test_resized/ID172_vid1 to ../../SENDv1-data/features/Train/image-raw/ID172_vid1\n",
      "copying from ../../Sherine-Image/images/Test_resized/ID169_vid2 to ../../SENDv1-data/features/Train/image-raw/ID169_vid2\n",
      "copying from ../../Sherine-Image/images/Train_resized/ID174_vid7 to ../../SENDv1-data/features/Train/image-raw/ID174_vid7\n",
      "copying from ../../Sherine-Image/images/Train_resized/ID174_vid3 to ../../SENDv1-data/features/Train/image-raw/ID174_vid3\n",
      "copying from ../../Sherine-Image/images/Valid_resized/ID172_vid5 to ../../SENDv1-data/features/Train/image-raw/ID172_vid5\n",
      "copying from ../../Sherine-Image/images/Train_resized/ID113_vid4 to ../../SENDv1-data/features/Train/image-raw/ID113_vid4\n",
      "copying from ../../Sherine-Image/images/Valid_resized/ID113_vid5 to ../../SENDv1-data/features/Train/image-raw/ID113_vid5\n",
      "copying from ../../Sherine-Image/images/Test_resized/ID172_vid4 to ../../SENDv1-data/features/Train/image-raw/ID172_vid4\n",
      "copying from ../../Sherine-Image/images/Valid_resized/ID174_vid2 to ../../SENDv1-data/features/Train/image-raw/ID174_vid2\n",
      "copying from ../../Sherine-Image/images/Train_resized/ID156_vid6 to ../../SENDv1-data/features/Train/image-raw/ID156_vid6\n",
      "copying from ../../Sherine-Image/images/Train_resized/ID113_vid6 to ../../SENDv1-data/features/Train/image-raw/ID113_vid6\n",
      "copying from ../../Sherine-Image/images/Train_resized/ID111_vid4 to ../../SENDv1-data/features/Train/image-raw/ID111_vid4\n",
      "copying from ../../Sherine-Image/images/Test_resized/ID169_vid4 to ../../SENDv1-data/features/Train/image-raw/ID169_vid4\n",
      "copying from ../../Sherine-Image/images/Test_resized/ID174_vid1 to ../../SENDv1-data/features/Train/image-raw/ID174_vid1\n",
      "copying from ../../Sherine-Image/images/Train_resized/ID124_vid1 to ../../SENDv1-data/features/Valid/image-raw/ID124_vid1\n",
      "copying from ../../Sherine-Image/images/Test_resized/ID181_vid4 to ../../SENDv1-data/features/Valid/image-raw/ID181_vid4\n",
      "copying from ../../Sherine-Image/images/Train_resized/ID181_vid6 to ../../SENDv1-data/features/Valid/image-raw/ID181_vid6\n",
      "copying from ../../Sherine-Image/images/Train_resized/ID124_vid3 to ../../SENDv1-data/features/Valid/image-raw/ID124_vid3\n",
      "copying from ../../Sherine-Image/images/Train_resized/ID124_vid2 to ../../SENDv1-data/features/Valid/image-raw/ID124_vid2\n",
      "copying from ../../Sherine-Image/images/Train_resized/ID124_vid6 to ../../SENDv1-data/features/Valid/image-raw/ID124_vid6\n",
      "copying from ../../Sherine-Image/images/Train_resized/ID181_vid3 to ../../SENDv1-data/features/Valid/image-raw/ID181_vid3\n",
      "copying from ../../Sherine-Image/images/Train_resized/ID181_vid2 to ../../SENDv1-data/features/Valid/image-raw/ID181_vid2\n",
      "copying from ../../Sherine-Image/images/Valid_resized/ID181_vid1 to ../../SENDv1-data/features/Valid/image-raw/ID181_vid1\n",
      "copying from ../../Sherine-Image/images/Train_resized/ID173_vid1 to ../../SENDv1-data/features/Valid/image-raw/ID173_vid1\n",
      "copying from ../../Sherine-Image/images/Valid_resized/ID173_vid3 to ../../SENDv1-data/features/Valid/image-raw/ID173_vid3\n",
      "copying from ../../Sherine-Image/images/Train_resized/ID173_vid6 to ../../SENDv1-data/features/Valid/image-raw/ID173_vid6\n",
      "copying from ../../Sherine-Image/images/Train_resized/ID173_vid4 to ../../SENDv1-data/features/Valid/image-raw/ID173_vid4\n",
      "copying from ../../Sherine-Image/images/Train_resized/ID131_vid5 to ../../SENDv1-data/features/Valid/image-raw/ID131_vid5\n",
      "copying from ../../Sherine-Image/images/Train_resized/ID117_vid6 to ../../SENDv1-data/features/Valid/image-raw/ID117_vid6\n",
      "copying from ../../Sherine-Image/images/Train_resized/ID128_vid5 to ../../SENDv1-data/features/Valid/image-raw/ID128_vid5\n",
      "copying from ../../Sherine-Image/images/Train_resized/ID137_vid2 to ../../SENDv1-data/features/Valid/image-raw/ID137_vid2\n",
      "copying from ../../Sherine-Image/images/Train_resized/ID115_vid5 to ../../SENDv1-data/features/Valid/image-raw/ID115_vid5\n",
      "copying from ../../Sherine-Image/images/Train_resized/ID117_vid5 to ../../SENDv1-data/features/Valid/image-raw/ID117_vid5\n",
      "copying from ../../Sherine-Image/images/Valid_resized/ID131_vid6 to ../../SENDv1-data/features/Valid/image-raw/ID131_vid6\n",
      "copying from ../../Sherine-Image/images/Valid_resized/ID149_vid6 to ../../SENDv1-data/features/Valid/image-raw/ID149_vid6\n",
      "copying from ../../Sherine-Image/images/Valid_resized/ID170_vid2 to ../../SENDv1-data/features/Valid/image-raw/ID170_vid2\n"
     ]
    },
    {
     "name": "stdout",
     "output_type": "stream",
     "text": [
      "copying from ../../Sherine-Image/images/Valid_resized/ID128_vid6 to ../../SENDv1-data/features/Valid/image-raw/ID128_vid6\n",
      "copying from ../../Sherine-Image/images/Train_resized/ID137_vid1 to ../../SENDv1-data/features/Valid/image-raw/ID137_vid1\n",
      "copying from ../../Sherine-Image/images/Train_resized/ID117_vid4 to ../../SENDv1-data/features/Valid/image-raw/ID117_vid4\n",
      "copying from ../../Sherine-Image/images/Train_resized/ID115_vid6 to ../../SENDv1-data/features/Valid/image-raw/ID115_vid6\n",
      "copying from ../../Sherine-Image/images/Train_resized/ID115_vid2 to ../../SENDv1-data/features/Valid/image-raw/ID115_vid2\n",
      "copying from ../../Sherine-Image/images/Train_resized/ID131_vid3 to ../../SENDv1-data/features/Valid/image-raw/ID131_vid3\n",
      "copying from ../../Sherine-Image/images/Test_resized/ID137_vid5 to ../../SENDv1-data/features/Valid/image-raw/ID137_vid5\n",
      "copying from ../../Sherine-Image/images/Valid_resized/ID149_vid3 to ../../SENDv1-data/features/Valid/image-raw/ID149_vid3\n",
      "copying from ../../Sherine-Image/images/Valid_resized/ID170_vid7 to ../../SENDv1-data/features/Valid/image-raw/ID170_vid7\n",
      "copying from ../../Sherine-Image/images/Valid_resized/ID128_vid2 to ../../SENDv1-data/features/Valid/image-raw/ID128_vid2\n",
      "copying from ../../Sherine-Image/images/Train_resized/ID137_vid4 to ../../SENDv1-data/features/Valid/image-raw/ID137_vid4\n",
      "copying from ../../Sherine-Image/images/Test_resized/ID131_vid2 to ../../SENDv1-data/features/Valid/image-raw/ID131_vid2\n",
      "copying from ../../Sherine-Image/images/Train_resized/ID117_vid1 to ../../SENDv1-data/features/Valid/image-raw/ID117_vid1\n",
      "copying from ../../Sherine-Image/images/Test_resized/ID115_vid3 to ../../SENDv1-data/features/Valid/image-raw/ID115_vid3\n",
      "copying from ../../Sherine-Image/images/Valid_resized/ID117_vid3 to ../../SENDv1-data/features/Valid/image-raw/ID117_vid3\n",
      "copying from ../../Sherine-Image/images/Train_resized/ID137_vid6 to ../../SENDv1-data/features/Valid/image-raw/ID137_vid6\n",
      "copying from ../../Sherine-Image/images/Train_resized/ID117_vid2 to ../../SENDv1-data/features/Valid/image-raw/ID117_vid2\n",
      "copying from ../../Sherine-Image/images/Train_resized/ID131_vid1 to ../../SENDv1-data/features/Valid/image-raw/ID131_vid1\n",
      "copying from ../../Sherine-Image/images/Train_resized/ID165_vid4 to ../../SENDv1-data/features/Test/image-raw/ID165_vid4\n",
      "copying from ../../Sherine-Image/images/Train_resized/ID145_vid1 to ../../SENDv1-data/features/Test/image-raw/ID145_vid1\n",
      "copying from ../../Sherine-Image/images/Train_resized/ID161_vid1 to ../../SENDv1-data/features/Test/image-raw/ID161_vid1\n",
      "copying from ../../Sherine-Image/images/Train_resized/ID165_vid5 to ../../SENDv1-data/features/Test/image-raw/ID165_vid5\n",
      "copying from ../../Sherine-Image/images/Train_resized/ID165_vid7 to ../../SENDv1-data/features/Test/image-raw/ID165_vid7\n",
      "copying from ../../Sherine-Image/images/Train_resized/ID161_vid3 to ../../SENDv1-data/features/Test/image-raw/ID161_vid3\n",
      "copying from ../../Sherine-Image/images/Valid_resized/ID145_vid2 to ../../SENDv1-data/features/Test/image-raw/ID145_vid2\n",
      "copying from ../../Sherine-Image/images/Train_resized/ID145_vid3 to ../../SENDv1-data/features/Test/image-raw/ID145_vid3\n",
      "copying from ../../Sherine-Image/images/Train_resized/ID165_vid6 to ../../SENDv1-data/features/Test/image-raw/ID165_vid6\n",
      "copying from ../../Sherine-Image/images/Train_resized/ID165_vid2 to ../../SENDv1-data/features/Test/image-raw/ID165_vid2\n",
      "copying from ../../Sherine-Image/images/Train_resized/ID165_vid3 to ../../SENDv1-data/features/Test/image-raw/ID165_vid3\n",
      "copying from ../../Sherine-Image/images/Train_resized/ID165_vid1 to ../../SENDv1-data/features/Test/image-raw/ID165_vid1\n",
      "copying from ../../Sherine-Image/images/Test_resized/ID145_vid4 to ../../SENDv1-data/features/Test/image-raw/ID145_vid4\n",
      "copying from ../../Sherine-Image/images/Train_resized/ID161_vid4 to ../../SENDv1-data/features/Test/image-raw/ID161_vid4\n",
      "copying from ../../Sherine-Image/images/Train_resized/ID123_vid5 to ../../SENDv1-data/features/Test/image-raw/ID123_vid5\n",
      "copying from ../../Sherine-Image/images/Valid_resized/ID123_vid4 to ../../SENDv1-data/features/Test/image-raw/ID123_vid4\n",
      "copying from ../../Sherine-Image/images/Train_resized/ID127_vid2 to ../../SENDv1-data/features/Test/image-raw/ID127_vid2\n",
      "copying from ../../Sherine-Image/images/Train_resized/ID127_vid3 to ../../SENDv1-data/features/Test/image-raw/ID127_vid3\n",
      "copying from ../../Sherine-Image/images/Test_resized/ID123_vid3 to ../../SENDv1-data/features/Test/image-raw/ID123_vid3\n",
      "copying from ../../Sherine-Image/images/Train_resized/ID123_vid2 to ../../SENDv1-data/features/Test/image-raw/ID123_vid2\n",
      "copying from ../../Sherine-Image/images/Valid_resized/ID127_vid6 to ../../SENDv1-data/features/Test/image-raw/ID127_vid6\n",
      "copying from ../../Sherine-Image/images/Train_resized/ID127_vid4 to ../../SENDv1-data/features/Test/image-raw/ID127_vid4\n",
      "copying from ../../Sherine-Image/images/Train_resized/ID123_vid1 to ../../SENDv1-data/features/Test/image-raw/ID123_vid1\n",
      "copying from ../../Sherine-Image/images/Train_resized/ID127_vid5 to ../../SENDv1-data/features/Test/image-raw/ID127_vid5\n",
      "copying from ../../Sherine-Image/images/Train_resized/ID112_vid1 to ../../SENDv1-data/features/Test/image-raw/ID112_vid1\n",
      "copying from ../../Sherine-Image/images/Train_resized/ID116_vid5 to ../../SENDv1-data/features/Test/image-raw/ID116_vid5\n",
      "copying from ../../Sherine-Image/images/Test_resized/ID116_vid4 to ../../SENDv1-data/features/Test/image-raw/ID116_vid4\n",
      "copying from ../../Sherine-Image/images/Valid_resized/ID134_vid3 to ../../SENDv1-data/features/Test/image-raw/ID134_vid3\n",
      "copying from ../../Sherine-Image/images/Test_resized/ID112_vid2 to ../../SENDv1-data/features/Test/image-raw/ID112_vid2\n",
      "copying from ../../Sherine-Image/images/Valid_resized/ID134_vid1 to ../../SENDv1-data/features/Test/image-raw/ID134_vid1\n",
      "copying from ../../Sherine-Image/images/Train_resized/ID116_vid6 to ../../SENDv1-data/features/Test/image-raw/ID116_vid6\n",
      "copying from ../../Sherine-Image/images/Test_resized/ID168_vid1 to ../../SENDv1-data/features/Test/image-raw/ID168_vid1\n",
      "copying from ../../Sherine-Image/images/Train_resized/ID112_vid3 to ../../SENDv1-data/features/Test/image-raw/ID112_vid3\n",
      "copying from ../../Sherine-Image/images/Train_resized/ID116_vid3 to ../../SENDv1-data/features/Test/image-raw/ID116_vid3\n",
      "copying from ../../Sherine-Image/images/Test_resized/ID116_vid2 to ../../SENDv1-data/features/Test/image-raw/ID116_vid2\n",
      "copying from ../../Sherine-Image/images/Train_resized/ID116_vid1 to ../../SENDv1-data/features/Test/image-raw/ID116_vid1\n",
      "copying from ../../Sherine-Image/images/Train_resized/ID154_vid1 to ../../SENDv1-data/features/Test/image-raw/ID154_vid1\n",
      "copying from ../../Sherine-Image/images/Train_resized/ID154_vid6 to ../../SENDv1-data/features/Test/image-raw/ID154_vid6\n",
      "copying from ../../Sherine-Image/images/Valid_resized/ID154_vid4 to ../../SENDv1-data/features/Test/image-raw/ID154_vid4\n"
     ]
    }
   ],
   "source": [
    "import shutil\n",
    "for k, v in partition.items():\n",
    "    for f in partition[k]:\n",
    "        p1 = f.split(\"_\")[0]\n",
    "        p2 = f.split(\"_\")[1]\n",
    "        file_n = f\"ID{p1}_vid{p2}\"\n",
    "        file_n = f\"../../SENDv1-data/features/{k}/image-raw/\" + file_n\n",
    "        destination = shutil.copytree(file_map[f], file_n)\n",
    "        print(f\"copying from {file_map[f]} to {file_n}\")"
   ]
  },
  {
   "cell_type": "code",
   "execution_count": 46,
   "metadata": {},
   "outputs": [
    {
     "data": {
      "text/plain": [
       "193"
      ]
     },
     "execution_count": 46,
     "metadata": {},
     "output_type": "execute_result"
    }
   ],
   "source": [
    "len(set(all_files).intersection(set(all_files_rating)))"
   ]
  },
  {
   "cell_type": "code",
   "execution_count": 80,
   "metadata": {},
   "outputs": [
    {
     "data": {
      "text/plain": [
       "{'142_3': '../../Sherine-Image/images/Train_resized/ID142_vid3',\n",
       " '130_4': '../../Sherine-Image/images/Train_resized/ID130_vid4',\n",
       " '153_4': '../../Sherine-Image/images/Train_resized/ID153_vid4',\n",
       " '179_4': '../../Sherine-Image/images/Train_resized/ID179_vid4',\n",
       " '156_6': '../../Sherine-Image/images/Train_resized/ID156_vid6',\n",
       " '163_5': '../../Sherine-Image/images/Train_resized/ID163_vid5',\n",
       " '114_4': '../../Sherine-Image/images/Train_resized/ID114_vid4',\n",
       " '123_5': '../../Sherine-Image/images/Train_resized/ID123_vid5',\n",
       " '129_2': '../../Sherine-Image/images/Train_resized/ID129_vid2',\n",
       " '120_3': '../../Sherine-Image/images/Train_resized/ID120_vid3',\n",
       " '173_4': '../../Sherine-Image/images/Train_resized/ID173_vid4',\n",
       " '117_2': '../../Sherine-Image/images/Train_resized/ID117_vid2',\n",
       " '131_1': '../../Sherine-Image/images/Train_resized/ID131_vid1',\n",
       " '181_6': '../../Sherine-Image/images/Train_resized/ID181_vid6',\n",
       " '117_1': '../../Sherine-Image/images/Train_resized/ID117_vid1',\n",
       " '118_1': '../../Sherine-Image/images/Train_resized/ID118_vid1',\n",
       " '171_2': '../../Sherine-Image/images/Train_resized/ID171_vid2',\n",
       " '127_5': '../../Sherine-Image/images/Train_resized/ID127_vid5',\n",
       " '153_3': '../../Sherine-Image/images/Train_resized/ID153_vid3',\n",
       " '113_2': '../../Sherine-Image/images/Train_resized/ID113_vid2',\n",
       " '124_3': '../../Sherine-Image/images/Train_resized/ID124_vid3',\n",
       " '161_4': '../../Sherine-Image/images/Train_resized/ID161_vid4',\n",
       " '128_5': '../../Sherine-Image/images/Train_resized/ID128_vid5',\n",
       " '113_4': '../../Sherine-Image/images/Train_resized/ID113_vid4',\n",
       " '179_1': '../../Sherine-Image/images/Train_resized/ID179_vid1',\n",
       " '147_1': '../../Sherine-Image/images/Train_resized/ID147_vid1',\n",
       " '162_4': '../../Sherine-Image/images/Train_resized/ID162_vid4',\n",
       " '127_3': '../../Sherine-Image/images/Train_resized/ID127_vid3',\n",
       " '173_6': '../../Sherine-Image/images/Train_resized/ID173_vid6',\n",
       " '164_5': '../../Sherine-Image/images/Train_resized/ID164_vid5',\n",
       " '145_3': '../../Sherine-Image/images/Train_resized/ID145_vid3',\n",
       " '115_5': '../../Sherine-Image/images/Train_resized/ID115_vid5',\n",
       " '165_7': '../../Sherine-Image/images/Train_resized/ID165_vid7',\n",
       " '174_3': '../../Sherine-Image/images/Train_resized/ID174_vid3',\n",
       " '116_3': '../../Sherine-Image/images/Train_resized/ID116_vid3',\n",
       " '178_5': '../../Sherine-Image/images/Train_resized/ID178_vid5',\n",
       " '154_1': '../../Sherine-Image/images/Train_resized/ID154_vid1',\n",
       " '172_2': '../../Sherine-Image/images/Train_resized/ID172_vid2',\n",
       " '178_6': '../../Sherine-Image/images/Train_resized/ID178_vid6',\n",
       " '165_4': '../../Sherine-Image/images/Train_resized/ID165_vid4',\n",
       " '112_3': '../../Sherine-Image/images/Train_resized/ID112_vid3',\n",
       " '118_4': '../../Sherine-Image/images/Train_resized/ID118_vid4',\n",
       " '137_6': '../../Sherine-Image/images/Train_resized/ID137_vid6',\n",
       " '119_6': '../../Sherine-Image/images/Train_resized/ID119_vid6',\n",
       " '165_2': '../../Sherine-Image/images/Train_resized/ID165_vid2',\n",
       " '117_4': '../../Sherine-Image/images/Train_resized/ID117_vid4',\n",
       " '181_3': '../../Sherine-Image/images/Train_resized/ID181_vid3',\n",
       " '119_2': '../../Sherine-Image/images/Train_resized/ID119_vid2',\n",
       " '115_6': '../../Sherine-Image/images/Train_resized/ID115_vid6',\n",
       " '161_1': '../../Sherine-Image/images/Train_resized/ID161_vid1',\n",
       " '124_6': '../../Sherine-Image/images/Train_resized/ID124_vid6',\n",
       " '156_3': '../../Sherine-Image/images/Train_resized/ID156_vid3',\n",
       " '165_3': '../../Sherine-Image/images/Train_resized/ID165_vid3',\n",
       " '120_4': '../../Sherine-Image/images/Train_resized/ID120_vid4',\n",
       " '117_5': '../../Sherine-Image/images/Train_resized/ID117_vid5',\n",
       " '181_2': '../../Sherine-Image/images/Train_resized/ID181_vid2',\n",
       " '123_2': '../../Sherine-Image/images/Train_resized/ID123_vid2',\n",
       " '165_1': '../../Sherine-Image/images/Train_resized/ID165_vid1',\n",
       " '116_5': '../../Sherine-Image/images/Train_resized/ID116_vid5',\n",
       " '171_6': '../../Sherine-Image/images/Train_resized/ID171_vid6',\n",
       " '118_5': '../../Sherine-Image/images/Train_resized/ID118_vid5',\n",
       " '111_4': '../../Sherine-Image/images/Train_resized/ID111_vid4',\n",
       " '163_2': '../../Sherine-Image/images/Train_resized/ID163_vid2',\n",
       " '145_1': '../../Sherine-Image/images/Train_resized/ID145_vid1',\n",
       " '147_3': '../../Sherine-Image/images/Train_resized/ID147_vid3',\n",
       " '179_3': '../../Sherine-Image/images/Train_resized/ID179_vid3',\n",
       " '180_2': '../../Sherine-Image/images/Train_resized/ID180_vid2',\n",
       " '116_1': '../../Sherine-Image/images/Train_resized/ID116_vid1',\n",
       " '180_6': '../../Sherine-Image/images/Train_resized/ID180_vid6',\n",
       " '180_5': '../../Sherine-Image/images/Train_resized/ID180_vid5',\n",
       " '161_3': '../../Sherine-Image/images/Train_resized/ID161_vid3',\n",
       " '162_5': '../../Sherine-Image/images/Train_resized/ID162_vid5',\n",
       " '127_2': '../../Sherine-Image/images/Train_resized/ID127_vid2',\n",
       " '112_1': '../../Sherine-Image/images/Train_resized/ID112_vid1',\n",
       " '164_3': '../../Sherine-Image/images/Train_resized/ID164_vid3',\n",
       " '116_6': '../../Sherine-Image/images/Train_resized/ID116_vid6',\n",
       " '163_1': '../../Sherine-Image/images/Train_resized/ID163_vid1',\n",
       " '137_4': '../../Sherine-Image/images/Train_resized/ID137_vid4',\n",
       " '118_6': '../../Sherine-Image/images/Train_resized/ID118_vid6',\n",
       " '131_5': '../../Sherine-Image/images/Train_resized/ID131_vid5',\n",
       " '117_6': '../../Sherine-Image/images/Train_resized/ID117_vid6',\n",
       " '123_1': '../../Sherine-Image/images/Train_resized/ID123_vid1',\n",
       " '154_6': '../../Sherine-Image/images/Train_resized/ID154_vid6',\n",
       " '137_2': '../../Sherine-Image/images/Train_resized/ID137_vid2',\n",
       " '171_3': '../../Sherine-Image/images/Train_resized/ID171_vid3',\n",
       " '131_3': '../../Sherine-Image/images/Train_resized/ID131_vid3',\n",
       " '120_1': '../../Sherine-Image/images/Train_resized/ID120_vid1',\n",
       " '165_6': '../../Sherine-Image/images/Train_resized/ID165_vid6',\n",
       " '115_2': '../../Sherine-Image/images/Train_resized/ID115_vid2',\n",
       " '180_3': '../../Sherine-Image/images/Train_resized/ID180_vid3',\n",
       " '153_6': '../../Sherine-Image/images/Train_resized/ID153_vid6',\n",
       " '121_5': '../../Sherine-Image/images/Train_resized/ID121_vid5',\n",
       " '130_6': '../../Sherine-Image/images/Train_resized/ID130_vid6',\n",
       " '142_1': '../../Sherine-Image/images/Train_resized/ID142_vid1',\n",
       " '162_3': '../../Sherine-Image/images/Train_resized/ID162_vid3',\n",
       " '127_4': '../../Sherine-Image/images/Train_resized/ID127_vid4',\n",
       " '119_4': '../../Sherine-Image/images/Train_resized/ID119_vid4',\n",
       " '130_2': '../../Sherine-Image/images/Train_resized/ID130_vid2',\n",
       " '153_2': '../../Sherine-Image/images/Train_resized/ID153_vid2',\n",
       " '113_3': '../../Sherine-Image/images/Train_resized/ID113_vid3',\n",
       " '179_6': '../../Sherine-Image/images/Train_resized/ID179_vid6',\n",
       " '124_2': '../../Sherine-Image/images/Train_resized/ID124_vid2',\n",
       " '147_5': '../../Sherine-Image/images/Train_resized/ID147_vid5',\n",
       " '124_1': '../../Sherine-Image/images/Train_resized/ID124_vid1',\n",
       " '153_5': '../../Sherine-Image/images/Train_resized/ID153_vid5',\n",
       " '121_6': '../../Sherine-Image/images/Train_resized/ID121_vid6',\n",
       " '130_1': '../../Sherine-Image/images/Train_resized/ID130_vid1',\n",
       " '114_5': '../../Sherine-Image/images/Train_resized/ID114_vid5',\n",
       " '165_5': '../../Sherine-Image/images/Train_resized/ID165_vid5',\n",
       " '120_2': '../../Sherine-Image/images/Train_resized/ID120_vid2',\n",
       " '129_3': '../../Sherine-Image/images/Train_resized/ID129_vid3',\n",
       " '174_7': '../../Sherine-Image/images/Train_resized/ID174_vid7',\n",
       " '173_1': '../../Sherine-Image/images/Train_resized/ID173_vid1',\n",
       " '137_1': '../../Sherine-Image/images/Train_resized/ID137_vid1',\n",
       " '118_3': '../../Sherine-Image/images/Train_resized/ID118_vid3',\n",
       " '113_6': '../../Sherine-Image/images/Train_resized/ID113_vid6',\n",
       " '178_1': '../../Sherine-Image/images/Train_resized/ID178_vid1',\n",
       " '128_6': '../../Sherine-Image/images/Valid_resized/ID128_vid6',\n",
       " '173_3': '../../Sherine-Image/images/Valid_resized/ID173_vid3',\n",
       " '127_6': '../../Sherine-Image/images/Valid_resized/ID127_vid6',\n",
       " '147_4': '../../Sherine-Image/images/Valid_resized/ID147_vid4',\n",
       " '111_3': '../../Sherine-Image/images/Valid_resized/ID111_vid3',\n",
       " '154_4': '../../Sherine-Image/images/Valid_resized/ID154_vid4',\n",
       " '129_1': '../../Sherine-Image/images/Valid_resized/ID129_vid1',\n",
       " '162_2': '../../Sherine-Image/images/Valid_resized/ID162_vid2',\n",
       " '129_7': '../../Sherine-Image/images/Valid_resized/ID129_vid7',\n",
       " '114_1': '../../Sherine-Image/images/Valid_resized/ID114_vid1',\n",
       " '134_3': '../../Sherine-Image/images/Valid_resized/ID134_vid3',\n",
       " '171_4': '../../Sherine-Image/images/Valid_resized/ID171_vid4',\n",
       " '129_4': '../../Sherine-Image/images/Valid_resized/ID129_vid4',\n",
       " '149_6': '../../Sherine-Image/images/Valid_resized/ID149_vid6',\n",
       " '129_6': '../../Sherine-Image/images/Valid_resized/ID129_vid6',\n",
       " '129_5': '../../Sherine-Image/images/Valid_resized/ID129_vid5',\n",
       " '131_6': '../../Sherine-Image/images/Valid_resized/ID131_vid6',\n",
       " '134_1': '../../Sherine-Image/images/Valid_resized/ID134_vid1',\n",
       " '164_4': '../../Sherine-Image/images/Valid_resized/ID164_vid4',\n",
       " '156_1': '../../Sherine-Image/images/Valid_resized/ID156_vid1',\n",
       " '170_2': '../../Sherine-Image/images/Valid_resized/ID170_vid2',\n",
       " '162_6': '../../Sherine-Image/images/Valid_resized/ID162_vid6',\n",
       " '167_1': '../../Sherine-Image/images/Valid_resized/ID167_vid1',\n",
       " '121_3': '../../Sherine-Image/images/Valid_resized/ID121_vid3',\n",
       " '128_2': '../../Sherine-Image/images/Valid_resized/ID128_vid2',\n",
       " '145_2': '../../Sherine-Image/images/Valid_resized/ID145_vid2',\n",
       " '167_2': '../../Sherine-Image/images/Valid_resized/ID167_vid2',\n",
       " '149_3': '../../Sherine-Image/images/Valid_resized/ID149_vid3',\n",
       " '113_5': '../../Sherine-Image/images/Valid_resized/ID113_vid5',\n",
       " '174_2': '../../Sherine-Image/images/Valid_resized/ID174_vid2',\n",
       " '143_3': '../../Sherine-Image/images/Valid_resized/ID143_vid3',\n",
       " '181_1': '../../Sherine-Image/images/Valid_resized/ID181_vid1',\n",
       " '172_5': '../../Sherine-Image/images/Valid_resized/ID172_vid5',\n",
       " '178_2': '../../Sherine-Image/images/Valid_resized/ID178_vid2',\n",
       " '143_5': '../../Sherine-Image/images/Valid_resized/ID143_vid5',\n",
       " '170_7': '../../Sherine-Image/images/Valid_resized/ID170_vid7',\n",
       " '123_4': '../../Sherine-Image/images/Valid_resized/ID123_vid4',\n",
       " '117_3': '../../Sherine-Image/images/Valid_resized/ID117_vid3',\n",
       " '151_6': '../../Sherine-Image/images/Test_resized/ID151_vid6',\n",
       " '151_2': '../../Sherine-Image/images/Test_resized/ID151_vid2',\n",
       " '172_1': '../../Sherine-Image/images/Test_resized/ID172_vid1',\n",
       " '171_1': '../../Sherine-Image/images/Test_resized/ID171_vid1',\n",
       " '174_6': '../../Sherine-Image/images/Test_resized/ID174_vid6',\n",
       " '131_2': '../../Sherine-Image/images/Test_resized/ID131_vid2',\n",
       " '174_5': '../../Sherine-Image/images/Test_resized/ID174_vid5',\n",
       " '172_4': '../../Sherine-Image/images/Test_resized/ID172_vid4',\n",
       " '144_1': '../../Sherine-Image/images/Test_resized/ID144_vid1',\n",
       " '141_6': '../../Sherine-Image/images/Test_resized/ID141_vid6',\n",
       " '115_3': '../../Sherine-Image/images/Test_resized/ID115_vid3',\n",
       " '180_4': '../../Sherine-Image/images/Test_resized/ID180_vid4',\n",
       " '169_2': '../../Sherine-Image/images/Test_resized/ID169_vid2',\n",
       " '137_5': '../../Sherine-Image/images/Test_resized/ID137_vid5',\n",
       " '116_4': '../../Sherine-Image/images/Test_resized/ID116_vid4',\n",
       " '123_3': '../../Sherine-Image/images/Test_resized/ID123_vid3',\n",
       " '121_1': '../../Sherine-Image/images/Test_resized/ID121_vid1',\n",
       " '147_2': '../../Sherine-Image/images/Test_resized/ID147_vid2',\n",
       " '135_3': '../../Sherine-Image/images/Test_resized/ID135_vid3',\n",
       " '174_1': '../../Sherine-Image/images/Test_resized/ID174_vid1',\n",
       " '169_4': '../../Sherine-Image/images/Test_resized/ID169_vid4',\n",
       " '112_2': '../../Sherine-Image/images/Test_resized/ID112_vid2',\n",
       " '168_1': '../../Sherine-Image/images/Test_resized/ID168_vid1',\n",
       " '141_1': '../../Sherine-Image/images/Test_resized/ID141_vid1',\n",
       " '181_4': '../../Sherine-Image/images/Test_resized/ID181_vid4',\n",
       " '156_2': '../../Sherine-Image/images/Test_resized/ID156_vid2',\n",
       " '180_1': '../../Sherine-Image/images/Test_resized/ID180_vid1',\n",
       " '178_4': '../../Sherine-Image/images/Test_resized/ID178_vid4',\n",
       " '171_5': '../../Sherine-Image/images/Test_resized/ID171_vid5',\n",
       " '172_3': '../../Sherine-Image/images/Test_resized/ID172_vid3',\n",
       " '116_2': '../../Sherine-Image/images/Test_resized/ID116_vid2',\n",
       " '145_4': '../../Sherine-Image/images/Test_resized/ID145_vid4',\n",
       " '111_1': '../../Sherine-Image/images/Test_resized/ID111_vid1',\n",
       " '114_6': '../../Sherine-Image/images/Test_resized/ID114_vid6',\n",
       " '144_3': '../../Sherine-Image/images/Test_resized/ID144_vid3',\n",
       " '179_5': '../../Sherine-Image/images/Test_resized/ID179_vid5',\n",
       " '142_2': '../../Sherine-Image/images/Test_resized/ID142_vid2',\n",
       " '153_1': '../../Sherine-Image/images/Test_resized/ID153_vid1'}"
      ]
     },
     "execution_count": 80,
     "metadata": {},
     "output_type": "execute_result"
    }
   ],
   "source": [
    "file_map"
   ]
  },
  {
   "cell_type": "code",
   "execution_count": null,
   "metadata": {},
   "outputs": [],
   "source": []
  }
 ],
 "metadata": {
  "kernelspec": {
   "display_name": "Python 3",
   "language": "python",
   "name": "python3"
  },
  "language_info": {
   "codemirror_mode": {
    "name": "ipython",
    "version": 3
   },
   "file_extension": ".py",
   "mimetype": "text/x-python",
   "name": "python",
   "nbconvert_exporter": "python",
   "pygments_lexer": "ipython3",
   "version": "3.7.3"
  }
 },
 "nbformat": 4,
 "nbformat_minor": 4
}
